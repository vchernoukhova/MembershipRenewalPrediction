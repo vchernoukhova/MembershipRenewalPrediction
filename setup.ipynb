{
 "cells": [
  {
   "cell_type": "code",
   "execution_count": null,
   "metadata": {},
   "outputs": [],
   "source": [
    "def ShowTypes(X):\n",
    "    \n",
    "    #train.dtypes\n",
    "    columns = list(X)\n",
    "\n",
    "    print ('\\033[1m', \"Categorical variables of the dataset are: \")\n",
    "    print ('\\033[0m')\n",
    "\n",
    "    categorical_variables = X.select_dtypes(include = 'object').columns.tolist()\n",
    "    print (* categorical_variables, sep = \"\\n\")\n",
    "            \n",
    "\n",
    "    print (' ')\n",
    "    print ('\\033[1m', \"Numerical variables of the dataset are: \")\n",
    "    print ('\\033[0m')\n",
    "\n",
    "    numeric = ['int16', 'int32', 'int64', 'float16', 'float32', 'float64']\n",
    "    numeric_variables = X.select_dtypes(include = numeric).columns.tolist()\n",
    "    \n",
    "    print(* numeric_variables, sep = \"\\n\")\n",
    "    \n",
    "    return\n",
    "\n",
    "def ShowLevels(X):\n",
    "    \n",
    "    categorical_variables = X.select_dtypes(include = 'object').columns.tolist()\n",
    "    \n",
    "    print(\"Number of records in the dataset is \",  X.shape[0]) \n",
    "    print ('='*50)\n",
    "    print(' ')\n",
    "    for variable in categorical_variables:\n",
    "        print (\"Number of \", variable, \" levels: \", X[variable].nunique()) \n",
    "    return\n"
   ]
  }
 ],
 "metadata": {
  "kernelspec": {
   "display_name": "Python 3",
   "language": "python",
   "name": "python3"
  },
  "language_info": {
   "codemirror_mode": {
    "name": "ipython",
    "version": 3
   },
   "file_extension": ".py",
   "mimetype": "text/x-python",
   "name": "python",
   "nbconvert_exporter": "python",
   "pygments_lexer": "ipython3",
   "version": "3.6.4"
  }
 },
 "nbformat": 4,
 "nbformat_minor": 2
}
